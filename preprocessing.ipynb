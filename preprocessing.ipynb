{
 "cells": [
  {
   "cell_type": "code",
   "execution_count": 14,
   "id": "initial_id",
   "metadata": {
    "ExecuteTime": {
     "end_time": "2024-04-17T14:32:24.904102600Z",
     "start_time": "2024-04-17T14:31:57.127753400Z"
    }
   },
   "outputs": [],
   "source": [
    "import torch\n",
    "from PIL import Image\n",
    "import os\n",
    "import numpy as np\n",
    "from torch.utils.data import Dataset, DataLoader\n",
    "from torchvision.transforms import v2\n",
    "from torchvision.io import read_image, write_jpeg\n",
    "from torchvision.utils import save_image\n",
    "import pandas as pd\n",
    "import albumentations as A\n",
    "from albumentations.pytorch import ToTensorV2\n",
    "import rembg\n",
    "import cv2"
   ]
  },
  {
   "cell_type": "code",
   "execution_count": 9,
   "outputs": [],
   "source": [
    "if torch.cuda.is_available(): \n",
    " torch.set_default_device('cuda')"
   ],
   "metadata": {
    "collapsed": false,
    "ExecuteTime": {
     "end_time": "2024-04-17T13:51:05.185431600Z",
     "start_time": "2024-04-17T13:51:05.182914Z"
    }
   },
   "id": "aaa96598629b081f"
  },
  {
   "cell_type": "markdown",
   "id": "d3e1d51a14d093c3",
   "metadata": {},
   "source": [
    "# Gaussian Noise"
   ]
  },
  {
   "cell_type": "code",
   "execution_count": 10,
   "id": "543627a22b5017fa",
   "metadata": {
    "ExecuteTime": {
     "end_time": "2024-04-17T13:51:05.200250300Z",
     "start_time": "2024-04-17T13:51:05.188151600Z"
    }
   },
   "outputs": [],
   "source": [
    "def gauss_noise_tensor(img):\n",
    "    assert isinstance(img, torch.Tensor)\n",
    "    dtype = img.dtype\n",
    "    if not img.is_floating_point():\n",
    "        img = img.to(torch.float32)\n",
    "    \n",
    "    sigma = 2\n",
    "    \n",
    "    out = img + sigma * torch.randn_like(img)\n",
    "    \n",
    "    if out.dtype != dtype:\n",
    "        out = out.to(dtype)\n",
    "        \n",
    "    return out"
   ]
  },
  {
   "cell_type": "markdown",
   "id": "836fe7aeb12b7493",
   "metadata": {},
   "source": [
    "# Compose Transformation"
   ]
  },
  {
   "cell_type": "code",
   "execution_count": 11,
   "id": "34d5666cf8b79bfd",
   "metadata": {
    "ExecuteTime": {
     "end_time": "2024-04-17T13:51:58.177491Z",
     "start_time": "2024-04-17T13:51:05.193252400Z"
    }
   },
   "outputs": [],
   "source": [
    "data_folder = \"./data/original\"\n",
    "destination_folder = \"./data/augmented\"\n",
    "\n",
    "IMAGE_ITERATIONS = 10\n",
    "\n",
    "WIDTH_RATIO = 0.3\n",
    "HEIGHT_RATIO = 0.3\n",
    "\n",
    "labels_dict = {}\n",
    "\n",
    "for filename in os.listdir(f\"{data_folder}\"):\n",
    "    if filename == \".ipynb_checkpoints\":\n",
    "        continue\n",
    "    img = read_image(f\"{data_folder}/{filename}\")\n",
    "    filename_no_extension = filename.split(\".\")[0]\n",
    "\n",
    "    for x in range(IMAGE_ITERATIONS):\n",
    "        transform = v2.Compose([\n",
    "                                v2.RandomCrop(size=400),\n",
    "                                v2.Lambda(gauss_noise_tensor),\n",
    "                                v2.RandomHorizontalFlip(p=0.5),\n",
    "                                v2.RandomVerticalFlip(p=0.5),\n",
    "                                v2.RandomErasing(p=0.5),\n",
    "                                v2.RandomPerspective(p=0.5),\n",
    "                                v2.RandomAffine(degrees=70, scale=[0.2, 2], translate=[0.2, 0.7], shear=5),\n",
    "                                v2.ElasticTransform(alpha=90.0, sigma=9.0)\n",
    "        ])                            \n",
    "        out = transform(img)\n",
    "        path = f'{destination_folder}/{filename_no_extension}_composed_{x}.jpg'\n",
    "        write_jpeg(out, path)\n",
    "\n",
    "        labels_dict[f\"{filename_no_extension}_composed_{x}.jpg\"] = {\n",
    "            \"HEALTHY\": 1 if \"HEALTHY\" in filename else 0,\n",
    "            \"AKU\": 1 if \"AKU\" in filename else 0\n",
    "        }"
   ]
  },
  {
   "cell_type": "markdown",
   "id": "edad65c031e485f6",
   "metadata": {},
   "source": [
    "# CutMix & MixUp"
   ]
  },
  {
   "cell_type": "code",
   "execution_count": 12,
   "id": "7924955761ecdae7",
   "metadata": {
    "ExecuteTime": {
     "end_time": "2024-04-17T13:51:59.402130300Z",
     "start_time": "2024-04-17T13:51:58.182179700Z"
    }
   },
   "outputs": [],
   "source": [
    "NUM_CLASSES = 2\n",
    "\n",
    "class CustomImageDataset(Dataset):\n",
    "    def __init__(self, annotations_file, img_dir, transform=None, target_transform=None):\n",
    "        self.img_labels = pd.read_csv(annotations_file)\n",
    "        self.img_dir = img_dir\n",
    "        self.transform = transform\n",
    "        self.target_transform = target_transform\n",
    "\n",
    "    def __len__(self):\n",
    "        return len(self.img_labels)\n",
    "\n",
    "    def __getitem__(self, idx):\n",
    "        img_path = os.path.join(self.img_dir, self.img_labels.iloc[idx, 0])\n",
    "        image = read_image(img_path)\n",
    "        label = self.img_labels.iloc[idx, 1]\n",
    "        if self.transform:\n",
    "            image = self.transform(image)\n",
    "        if self.target_transform:\n",
    "            label = self.target_transform(label)\n",
    "        return image, label\n",
    "    \n",
    "prepoc = v2.Compose([v2.PILToTensor(), v2.RandomCrop(size=400), v2.ToDtype(torch.float32, scale=True)])\n",
    "BATCH_SIZE = 4\n",
    "    \n",
    "aku_dataset = CustomImageDataset('./labels.csv', f'{data_folder}', transform=prepoc)\n",
    "dataloader = DataLoader(aku_dataset, batch_size=BATCH_SIZE, shuffle=False)\n",
    "\n",
    "cutmix = v2.CutMix(num_classes=NUM_CLASSES)\n",
    "mixup = v2.MixUp(num_classes=NUM_CLASSES)\n",
    "#cutmix_or_mixup = v2.RandomChoice([cutmix, mixup])\n",
    "\n",
    "x = 0\n",
    "for images, labels in dataloader:\n",
    "    cutimages, cutlabels = cutmix(images, labels)\n",
    "    for i in range(cutimages.size(0)):\n",
    "        filename = f\"cutmix_{x+i}.jpg\"\n",
    "        save_image(cutimages[i, :, :, :], f'{destination_folder}/{filename}')\n",
    "        \n",
    "        labels_dict[filename] = {\n",
    "            \"HEALTHY\": cutlabels[i][0].item(),\n",
    "            \"AKU\": cutlabels[i][1].item()\n",
    "        }\n",
    "    miximages, mixlabels = mixup(images, labels)\n",
    "    for i in range(miximages.size(0)):\n",
    "        filename = f\"mixup_{x+i}.jpg\"\n",
    "        save_image(miximages[i, :, :, :], f'{destination_folder}/{filename}')\n",
    "\n",
    "        labels_dict[filename] = {\n",
    "            \"HEALTHY\": mixlabels[i][0].item(),\n",
    "            \"AKU\": mixlabels[i][1].item()\n",
    "        }\n",
    "    x+= BATCH_SIZE"
   ]
  },
  {
   "cell_type": "code",
   "execution_count": 13,
   "id": "f64c2a1d521aea1f",
   "metadata": {
    "ExecuteTime": {
     "end_time": "2024-04-17T13:51:59.414296200Z",
     "start_time": "2024-04-17T13:51:59.403131200Z"
    }
   },
   "outputs": [],
   "source": [
    "df = pd.DataFrame.from_dict(labels_dict, orient=\"index\")\n",
    "df.to_csv(\"./data/overall_labels.csv\")"
   ]
  },
  {
   "cell_type": "code",
   "execution_count": 16,
   "outputs": [
    {
     "name": "stderr",
     "output_type": "stream",
     "text": [
      "C:\\Users\\Ougi\\PycharmProjects\\CHL\\.venv\\Lib\\site-packages\\rembg\\sessions\\base.py:52: RuntimeWarning: invalid value encountered in divide\n",
      "  im_ary = im_ary / np.max(im_ary)\n",
      "C:\\Users\\Ougi\\PycharmProjects\\CHL\\.venv\\Lib\\site-packages\\rembg\\sessions\\u2net.py:44: RuntimeWarning: invalid value encountered in cast\n",
      "  mask = Image.fromarray((pred * 255).astype(\"uint8\"), mode=\"L\")\n"
     ]
    },
    {
     "ename": "KeyboardInterrupt",
     "evalue": "",
     "output_type": "error",
     "traceback": [
      "\u001B[1;31m---------------------------------------------------------------------------\u001B[0m",
      "\u001B[1;31mKeyboardInterrupt\u001B[0m                         Traceback (most recent call last)",
      "Cell \u001B[1;32mIn[16], line 8\u001B[0m\n\u001B[0;32m      6\u001B[0m input_array \u001B[38;5;241m=\u001B[39m np\u001B[38;5;241m.\u001B[39marray(img)\n\u001B[0;32m      7\u001B[0m output_array \u001B[38;5;241m=\u001B[39m rembg\u001B[38;5;241m.\u001B[39mremove(input_array)\n\u001B[1;32m----> 8\u001B[0m output_image \u001B[38;5;241m=\u001B[39m \u001B[43mImage\u001B[49m\u001B[38;5;241;43m.\u001B[39;49m\u001B[43mfromarray\u001B[49m\u001B[43m(\u001B[49m\u001B[43moutput_array\u001B[49m\u001B[43m)\u001B[49m\n\u001B[0;32m      9\u001B[0m path \u001B[38;5;241m=\u001B[39m \u001B[38;5;124mf\u001B[39m\u001B[38;5;124m'\u001B[39m\u001B[38;5;132;01m{\u001B[39;00mdestination_folder\u001B[38;5;132;01m}\u001B[39;00m\u001B[38;5;124m/\u001B[39m\u001B[38;5;132;01m{\u001B[39;00mfilename_no_extension\u001B[38;5;132;01m}\u001B[39;00m\u001B[38;5;124m_nobg_\u001B[39m\u001B[38;5;132;01m{\u001B[39;00mx\u001B[38;5;132;01m}\u001B[39;00m\u001B[38;5;124m.png\u001B[39m\u001B[38;5;124m'\u001B[39m\n\u001B[0;32m     10\u001B[0m output_image\u001B[38;5;241m.\u001B[39msave(path)\n",
      "File \u001B[1;32m~\\PycharmProjects\\CHL\\.venv\\Lib\\site-packages\\PIL\\Image.py:3122\u001B[0m, in \u001B[0;36mfromarray\u001B[1;34m(obj, mode)\u001B[0m\n\u001B[0;32m   3120\u001B[0m shape \u001B[38;5;241m=\u001B[39m arr[\u001B[38;5;124m\"\u001B[39m\u001B[38;5;124mshape\u001B[39m\u001B[38;5;124m\"\u001B[39m]\n\u001B[0;32m   3121\u001B[0m ndim \u001B[38;5;241m=\u001B[39m \u001B[38;5;28mlen\u001B[39m(shape)\n\u001B[1;32m-> 3122\u001B[0m strides \u001B[38;5;241m=\u001B[39m \u001B[43marr\u001B[49m\u001B[38;5;241;43m.\u001B[39;49m\u001B[43mget\u001B[49m\u001B[43m(\u001B[49m\u001B[38;5;124;43m\"\u001B[39;49m\u001B[38;5;124;43mstrides\u001B[39;49m\u001B[38;5;124;43m\"\u001B[39;49m\u001B[43m,\u001B[49m\u001B[43m \u001B[49m\u001B[38;5;28;43;01mNone\u001B[39;49;00m\u001B[43m)\u001B[49m\n\u001B[0;32m   3123\u001B[0m \u001B[38;5;28;01mif\u001B[39;00m mode \u001B[38;5;129;01mis\u001B[39;00m \u001B[38;5;28;01mNone\u001B[39;00m:\n\u001B[0;32m   3124\u001B[0m     \u001B[38;5;28;01mtry\u001B[39;00m:\n",
      "\u001B[1;31mKeyboardInterrupt\u001B[0m: "
     ]
    }
   ],
   "source": [
    "x = 0\n",
    "for filename in os.listdir(f\"{destination_folder}\"):\n",
    "    if filename == \".ipynb_checkpoints\":\n",
    "        continue\n",
    "    filename_no_extension = filename.split(\".\")[0]\n",
    "    img = Image.open(f\"{destination_folder}/{filename}\")\n",
    "    input_array = np.array(img)\n",
    "    output_array = rembg.remove(input_array)\n",
    "    output_image = Image.fromarray(output_array)\n",
    "    path = f'{destination_folder}/{filename_no_extension}_nobg_{x}.png'\n",
    "    x+= 1\n",
    "    output_image.save(path)"
   ],
   "metadata": {
    "collapsed": false,
    "ExecuteTime": {
     "end_time": "2024-04-17T14:37:43.842103600Z",
     "start_time": "2024-04-17T14:33:21.072521900Z"
    }
   },
   "id": "177ac0fa97186cd8"
  },
  {
   "cell_type": "code",
   "execution_count": null,
   "outputs": [],
   "source": [],
   "metadata": {
    "collapsed": false
   },
   "id": "8ac1eccab3d602d3"
  }
 ],
 "metadata": {
  "kernelspec": {
   "display_name": "Python 3 (ipykernel)",
   "language": "python",
   "name": "python3"
  },
  "language_info": {
   "codemirror_mode": {
    "name": "ipython",
    "version": 3
   },
   "file_extension": ".py",
   "mimetype": "text/x-python",
   "name": "python",
   "nbconvert_exporter": "python",
   "pygments_lexer": "ipython3",
   "version": "3.10.12"
  }
 },
 "nbformat": 4,
 "nbformat_minor": 5
}
