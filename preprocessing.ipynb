{
 "cells": [
  {
   "cell_type": "code",
   "execution_count": 19,
   "id": "initial_id",
   "metadata": {
    "ExecuteTime": {
     "end_time": "2024-04-22T13:36:52.910397300Z",
     "start_time": "2024-04-22T13:36:52.883054800Z"
    }
   },
   "outputs": [],
   "source": [
    "import torch\n",
    "from PIL import Image\n",
    "import os\n",
    "import numpy as np\n",
    "from torch.utils.data import Dataset, DataLoader\n",
    "from torchvision.transforms import v2\n",
    "from torchvision.io import read_image, write_jpeg\n",
    "from torchvision.utils import save_image\n",
    "import pandas as pd\n",
    "import albumentations as A\n",
    "from albumentations.pytorch import ToTensorV2\n",
    "import rembg\n",
    "import cv2"
   ]
  },
  {
   "cell_type": "code",
   "execution_count": 20,
   "outputs": [],
   "source": [
    "if torch.cuda.is_available(): \n",
    " torch.set_default_device('cuda')"
   ],
   "metadata": {
    "collapsed": false,
    "ExecuteTime": {
     "end_time": "2024-04-22T13:36:52.923027300Z",
     "start_time": "2024-04-22T13:36:52.915850500Z"
    }
   },
   "id": "aaa96598629b081f"
  },
  {
   "cell_type": "markdown",
   "id": "d3e1d51a14d093c3",
   "metadata": {},
   "source": [
    "# Gaussian Noise"
   ]
  },
  {
   "cell_type": "code",
   "execution_count": 21,
   "id": "543627a22b5017fa",
   "metadata": {
    "ExecuteTime": {
     "end_time": "2024-04-22T13:36:52.941325800Z",
     "start_time": "2024-04-22T13:36:52.929239100Z"
    }
   },
   "outputs": [],
   "source": [
    "def gauss_noise_tensor(img):\n",
    "    assert isinstance(img, torch.Tensor)\n",
    "    dtype = img.dtype\n",
    "    if not img.is_floating_point():\n",
    "        img = img.to(torch.float32)\n",
    "    \n",
    "    sigma = 2\n",
    "    \n",
    "    out = img + sigma * torch.randn_like(img)\n",
    "    \n",
    "    if out.dtype != dtype:\n",
    "        out = out.to(dtype)\n",
    "        \n",
    "    return out"
   ]
  },
  {
   "cell_type": "markdown",
   "id": "836fe7aeb12b7493",
   "metadata": {},
   "source": [
    "# Compose Transformation"
   ]
  },
  {
   "cell_type": "code",
   "execution_count": 22,
   "id": "34d5666cf8b79bfd",
   "metadata": {
    "ExecuteTime": {
     "end_time": "2024-04-22T13:38:33.555805900Z",
     "start_time": "2024-04-22T13:36:52.936662500Z"
    }
   },
   "outputs": [],
   "source": [
    "data_folder = \"./data/original\"\n",
    "destination_folder = \"./data/augmented\"\n",
    "\n",
    "IMAGE_ITERATIONS = 10\n",
    "\n",
    "WIDTH_RATIO = 0.3\n",
    "HEIGHT_RATIO = 0.3\n",
    "\n",
    "labels_dict = {}\n",
    "\n",
    "for filename in os.listdir(f\"{data_folder}\"):\n",
    "    if filename == \".ipynb_checkpoints\":\n",
    "        continue\n",
    "    img = read_image(f\"{data_folder}/{filename}\")\n",
    "    filename_no_extension = filename.split(\".\")[0]\n",
    "    labels_dict[f\"{filename}\"] = {\n",
    "            \"HEALTHY\": 1 if \"HEALTHY\" in filename else 0,\n",
    "            \"AKU\": 1 if \"AKU\" in filename else 0\n",
    "        }\n",
    "    for x in range(IMAGE_ITERATIONS):\n",
    "        transform = v2.Compose([\n",
    "                                v2.RandomCrop(size=400),\n",
    "                                v2.Lambda(gauss_noise_tensor),\n",
    "                                v2.RandomHorizontalFlip(p=0.5),\n",
    "                                v2.RandomVerticalFlip(p=0.5),\n",
    "                                v2.RandomErasing(p=0.5, scale=(0.02, 0.2)),\n",
    "                                v2.RandomPerspective(p=0.5, distortion_scale=0.3),\n",
    "                                v2.RandomAffine(degrees=40, scale=[0.8, 1.2], translate=[0.2, 0.4], shear=5),\n",
    "                                v2.ElasticTransform(alpha=90.0, sigma=9.0)\n",
    "        ])                            \n",
    "        out = transform(img)\n",
    "        path = f'{destination_folder}/{filename_no_extension}_composed_{x}.jpg'\n",
    "        write_jpeg(out, path)\n",
    "\n",
    "        labels_dict[f\"{filename_no_extension}_composed_{x}.jpg\"] = {\n",
    "            \"HEALTHY\": 1 if \"HEALTHY\" in filename else 0,\n",
    "            \"AKU\": 1 if \"AKU\" in filename else 0\n",
    "        }"
   ]
  },
  {
   "cell_type": "markdown",
   "id": "edad65c031e485f6",
   "metadata": {},
   "source": [
    "# CutMix & MixUp"
   ]
  },
  {
   "cell_type": "code",
   "execution_count": 23,
   "id": "7924955761ecdae7",
   "metadata": {
    "ExecuteTime": {
     "end_time": "2024-04-22T13:38:37.549295800Z",
     "start_time": "2024-04-22T13:38:33.555805900Z"
    }
   },
   "outputs": [],
   "source": [
    "NUM_CLASSES = 2\n",
    "\n",
    "class CustomImageDataset(Dataset):\n",
    "    def __init__(self, annotations_file, img_dir, transform=None, target_transform=None):\n",
    "        self.img_labels = pd.read_csv(annotations_file)\n",
    "        self.img_dir = img_dir\n",
    "        self.transform = transform\n",
    "        self.target_transform = target_transform\n",
    "\n",
    "    def __len__(self):\n",
    "        return len(self.img_labels)\n",
    "\n",
    "    def __getitem__(self, idx):\n",
    "        img_path = os.path.join(self.img_dir, self.img_labels.iloc[idx, 0])\n",
    "        image = read_image(img_path)\n",
    "        label = self.img_labels.iloc[idx, 1]\n",
    "        if self.transform:\n",
    "            image = self.transform(image)\n",
    "        if self.target_transform:\n",
    "            label = self.target_transform(label)\n",
    "        return image, label\n",
    "    \n",
    "prepoc = v2.Compose([v2.PILToTensor(), v2.RandomCrop(size=400), v2.ToDtype(torch.float32, scale=True)])\n",
    "BATCH_SIZE = 4\n",
    "\n",
    "torch.set_default_device('cpu')\n",
    "    \n",
    "aku_dataset = CustomImageDataset('./labels.csv', f'{data_folder}', transform=prepoc)\n",
    "dataloader = DataLoader(aku_dataset, batch_size=BATCH_SIZE, shuffle=True)\n",
    "\n",
    "cutmix = v2.CutMix(num_classes=NUM_CLASSES)\n",
    "mixup = v2.MixUp(num_classes=NUM_CLASSES)\n",
    "#cutmix_or_mixup = v2.RandomChoice([cutmix, mixup])\n",
    "\n",
    "x = 0\n",
    "for images, labels in dataloader:\n",
    "    cutimages, cutlabels = cutmix(images, labels)\n",
    "    for i in range(cutimages.size(0)):\n",
    "        filename = f\"cutmix_{x+i}.jpg\"\n",
    "        save_image(cutimages[i, :, :, :], f'{destination_folder}/{filename}')    \n",
    "        labels_dict[filename] = {\n",
    "            \"HEALTHY\": cutlabels[i][0].item(),\n",
    "            \"AKU\": cutlabels[i][1].item()\n",
    "        }\n",
    "    miximages, mixlabels = mixup(images, labels)\n",
    "    for i in range(miximages.size(0)):\n",
    "        filename = f\"mixup_{x+i}.jpg\"\n",
    "        save_image(miximages[i, :, :, :], f'{destination_folder}/{filename}')\n",
    "        labels_dict[filename] = {\n",
    "            \"HEALTHY\": mixlabels[i][0].item(),\n",
    "            \"AKU\": mixlabels[i][1].item()\n",
    "        }\n",
    "    x+= BATCH_SIZE"
   ]
  },
  {
   "cell_type": "code",
   "execution_count": 24,
   "id": "f64c2a1d521aea1f",
   "metadata": {
    "ExecuteTime": {
     "end_time": "2024-04-22T13:38:37.589343400Z",
     "start_time": "2024-04-22T13:38:37.549295800Z"
    }
   },
   "outputs": [],
   "source": [
    "df = pd.DataFrame.from_dict(labels_dict, orient=\"index\")\n",
    "df.to_csv(\"./data/overall_labels.csv\")"
   ]
  },
  {
   "cell_type": "code",
   "execution_count": 24,
   "outputs": [],
   "source": [
    "   "
   ],
   "metadata": {
    "collapsed": false,
    "ExecuteTime": {
     "end_time": "2024-04-22T13:38:37.597459100Z",
     "start_time": "2024-04-22T13:38:37.589343400Z"
    }
   },
   "id": "54ce3dd1bf1c25e2"
  },
  {
   "cell_type": "code",
   "execution_count": 24,
   "outputs": [],
   "source": [],
   "metadata": {
    "collapsed": false,
    "ExecuteTime": {
     "end_time": "2024-04-22T13:38:37.613274Z",
     "start_time": "2024-04-22T13:38:37.606007100Z"
    }
   },
   "id": "177ac0fa97186cd8"
  },
  {
   "cell_type": "code",
   "execution_count": 24,
   "outputs": [],
   "source": [],
   "metadata": {
    "collapsed": false,
    "ExecuteTime": {
     "end_time": "2024-04-22T13:38:37.621298500Z",
     "start_time": "2024-04-22T13:38:37.613274Z"
    }
   },
   "id": "8ac1eccab3d602d3"
  }
 ],
 "metadata": {
  "kernelspec": {
   "display_name": "Python 3 (ipykernel)",
   "language": "python",
   "name": "python3"
  },
  "language_info": {
   "codemirror_mode": {
    "name": "ipython",
    "version": 3
   },
   "file_extension": ".py",
   "mimetype": "text/x-python",
   "name": "python",
   "nbconvert_exporter": "python",
   "pygments_lexer": "ipython3",
   "version": "3.10.12"
  }
 },
 "nbformat": 4,
 "nbformat_minor": 5
}
