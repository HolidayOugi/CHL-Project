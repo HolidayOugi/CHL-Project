{
 "cells": [
  {
   "cell_type": "code",
   "execution_count": 4,
   "id": "initial_id",
   "metadata": {
    "ExecuteTime": {
     "end_time": "2024-04-17T09:39:39.750571600Z",
     "start_time": "2024-04-17T09:39:39.697254600Z"
    }
   },
   "outputs": [],
   "source": [
    "import torch\n",
    "from PIL import Image\n",
    "import os\n",
    "import numpy as np\n",
    "from torch.utils.data import Dataset, DataLoader\n",
    "from torchvision.transforms import v2\n",
    "from torchvision.io import read_image, write_jpeg\n",
    "from torchvision.utils import save_image\n",
    "import pandas as pd\n",
    "import albumentations as A\n",
    "from albumentations.pytorch import ToTensorV2\n",
    "import cv2\n",
    "\n",
    "#from mpmath.identification import transforms"
   ]
  },
  {
   "cell_type": "markdown",
   "id": "d3e1d51a14d093c3",
   "metadata": {},
   "source": [
    "# Gaussian Noise"
   ]
  },
  {
   "cell_type": "code",
   "execution_count": 5,
   "id": "543627a22b5017fa",
   "metadata": {
    "ExecuteTime": {
     "end_time": "2024-04-17T09:39:39.758083200Z",
     "start_time": "2024-04-17T09:39:39.748058900Z"
    }
   },
   "outputs": [],
   "source": [
    "def gauss_noise_tensor(img):\n",
    "    assert isinstance(img, torch.Tensor)\n",
    "    dtype = img.dtype\n",
    "    if not img.is_floating_point():\n",
    "        img = img.to(torch.float32)\n",
    "    \n",
    "    sigma = 2\n",
    "    \n",
    "    out = img + sigma * torch.randn_like(img)\n",
    "    \n",
    "    if out.dtype != dtype:\n",
    "        out = out.to(dtype)\n",
    "        \n",
    "    return out"
   ]
  },
  {
   "cell_type": "markdown",
   "id": "836fe7aeb12b7493",
   "metadata": {},
   "source": [
    "# Compose Transformation"
   ]
  },
  {
   "cell_type": "code",
   "execution_count": 6,
   "id": "34d5666cf8b79bfd",
   "metadata": {
    "ExecuteTime": {
     "end_time": "2024-04-17T09:41:30.327954Z",
     "start_time": "2024-04-17T09:39:39.761490900Z"
    }
   },
   "outputs": [],
   "source": [
    "data_folder = \"./data/original\"\n",
    "destination_folder = \"./data/augmented\"\n",
    "\n",
    "IMAGE_ITERATIONS = 10\n",
    "\n",
    "WIDTH_RATIO = 0.3\n",
    "HEIGHT_RATIO = 0.3\n",
    "\n",
    "labels_dict = {}\n",
    "\n",
    "for filename in os.listdir(f\"{data_folder}\"):\n",
    "    if filename == \".ipynb_checkpoints\":\n",
    "        continue\n",
    "    img = read_image(f\"{data_folder}/{filename}\")\n",
    "    filename_no_extension = filename.split(\".\")[0]\n",
    "\n",
    "    for x in range(IMAGE_ITERATIONS):\n",
    "        transform = v2.Compose([\n",
    "                                v2.RandomCrop(size=400),\n",
    "                                v2.Lambda(gauss_noise_tensor),\n",
    "                                v2.RandomHorizontalFlip(p=0.5),\n",
    "                                v2.RandomVerticalFlip(p=0.5),\n",
    "                                v2.RandomErasing(p=0.5),\n",
    "                                v2.RandomPerspective(p=0.5),\n",
    "                                v2.RandomAffine(degrees=70, scale=[0.2, 2], translate=[0.2, 0.7], shear=5),\n",
    "                                v2.ElasticTransform(alpha=90.0, sigma=9.0)\n",
    "        ])                            \n",
    "        out = transform(img)\n",
    "        path = f'{destination_folder}/{filename_no_extension}_composed_{x}.jpg'\n",
    "        write_jpeg(out, path)\n",
    "\n",
    "        labels_dict[f\"{filename_no_extension}_composed_{x}.jpg\"] = {\n",
    "            \"HEALTHY\": 1 if \"HEALTHY\" in filename else 0,\n",
    "            \"AKU\": 1 if \"AKU\" in filename else 0\n",
    "        }"
   ]
  },
  {
   "cell_type": "markdown",
   "id": "edad65c031e485f6",
   "metadata": {},
   "source": [
    "# CutMix & MixUp"
   ]
  },
  {
   "cell_type": "code",
   "execution_count": 7,
   "id": "7924955761ecdae7",
   "metadata": {
    "ExecuteTime": {
     "end_time": "2024-04-17T09:41:32.300004500Z",
     "start_time": "2024-04-17T09:41:30.334649400Z"
    }
   },
   "outputs": [],
   "source": [
    "NUM_CLASSES = 2\n",
    "\n",
    "class CustomImageDataset(Dataset):\n",
    "    def __init__(self, annotations_file, img_dir, transform=None, target_transform=None):\n",
    "        self.img_labels = pd.read_csv(annotations_file)\n",
    "        self.img_dir = img_dir\n",
    "        self.transform = transform\n",
    "        self.target_transform = target_transform\n",
    "\n",
    "    def __len__(self):\n",
    "        return len(self.img_labels)\n",
    "\n",
    "    def __getitem__(self, idx):\n",
    "        img_path = os.path.join(self.img_dir, self.img_labels.iloc[idx, 0])\n",
    "        image = read_image(img_path)\n",
    "        label = self.img_labels.iloc[idx, 1]\n",
    "        if self.transform:\n",
    "            image = self.transform(image)\n",
    "        if self.target_transform:\n",
    "            label = self.target_transform(label)\n",
    "        return image, label\n",
    "    \n",
    "prepoc = v2.Compose([v2.PILToTensor(), v2.RandomCrop(size=400), v2.ToDtype(torch.float32, scale=True)])\n",
    "    \n",
    "aku_dataset = CustomImageDataset('./labels.csv', f'{data_folder}', transform=prepoc)\n",
    "dataloader = DataLoader(aku_dataset, batch_size=4, shuffle=True)\n",
    "\n",
    "cutmix = v2.CutMix(num_classes=NUM_CLASSES)\n",
    "mixup = v2.MixUp(num_classes=NUM_CLASSES)\n",
    "#cutmix_or_mixup = v2.RandomChoice([cutmix, mixup])\n",
    "\n",
    "x = 0\n",
    "for images, labels in dataloader:\n",
    "    cutimages, cutlabels = cutmix(images, labels)\n",
    "    for i in range(cutimages.size(0)):\n",
    "        filename = f\"cutmix_{x}.jpg\"\n",
    "        save_image(cutimages[i, :, :, :], f'{destination_folder}/{filename}')\n",
    "        \n",
    "        labels_dict[filename] = {\n",
    "            \"HEALTHY\": cutlabels[i][0].item(),\n",
    "            \"AKU\": cutlabels[i][1].item()\n",
    "        }\n",
    "        \n",
    "        x+=1\n",
    "\n",
    "x = 0\n",
    "for images, labels in dataloader:\n",
    "    miximages, mixlabels = mixup(images, labels)\n",
    "    for i in range(miximages.size(0)):\n",
    "        filename = f\"mixup_{x}.jpg\"\n",
    "        save_image(miximages[i, :, :, :], f'{destination_folder}/{filename}')\n",
    "\n",
    "        labels_dict[filename] = {\n",
    "            \"HEALTHY\": mixlabels[i][0].item(),\n",
    "            \"AKU\": mixlabels[i][1].item()\n",
    "        }\n",
    "        \n",
    "        x+=1"
   ]
  },
  {
   "cell_type": "code",
   "execution_count": 12,
   "id": "f64c2a1d521aea1f",
   "metadata": {
    "ExecuteTime": {
     "end_time": "2024-04-17T09:45:55.632750200Z",
     "start_time": "2024-04-17T09:45:55.620134600Z"
    }
   },
   "outputs": [],
   "source": [
    "df = pd.DataFrame.from_dict(labels_dict, orient=\"index\")\n",
    "df.to_csv(\"./data/overall_labels.csv\")"
   ]
  },
  {
   "cell_type": "code",
   "execution_count": 8,
   "id": "30ac7b1b-4370-4521-b81c-29723916d4a7",
   "metadata": {
    "ExecuteTime": {
     "end_time": "2024-04-17T09:41:32.338389700Z",
     "start_time": "2024-04-17T09:41:32.320383400Z"
    }
   },
   "outputs": [],
   "source": []
  }
 ],
 "metadata": {
  "kernelspec": {
   "display_name": "Python 3 (ipykernel)",
   "language": "python",
   "name": "python3"
  },
  "language_info": {
   "codemirror_mode": {
    "name": "ipython",
    "version": 3
   },
   "file_extension": ".py",
   "mimetype": "text/x-python",
   "name": "python",
   "nbconvert_exporter": "python",
   "pygments_lexer": "ipython3",
   "version": "3.10.12"
  }
 },
 "nbformat": 4,
 "nbformat_minor": 5
}
