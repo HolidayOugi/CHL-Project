{
 "cells": [
  {
   "cell_type": "code",
   "execution_count": 1,
   "id": "initial_id",
   "metadata": {
    "collapsed": true,
    "ExecuteTime": {
     "end_time": "2024-04-17T07:20:15.006571900Z",
     "start_time": "2024-04-17T07:20:12.531623200Z"
    }
   },
   "outputs": [],
   "source": [
    "import torch\n",
    "from PIL import Image\n",
    "import os\n",
    "import numpy as np\n",
    "from torch.utils.data import Dataset, DataLoader\n",
    "from torchvision.transforms import v2\n",
    "from torchvision.io import read_image, write_jpeg\n",
    "from torchvision.utils import save_image\n",
    "import pandas as pd\n",
    "\n",
    "#from mpmath.identification import transforms"
   ]
  },
  {
   "cell_type": "code",
   "execution_count": 2,
   "outputs": [],
   "source": [
    "image = read_image('./data/original/AKU01.jpg')"
   ],
   "metadata": {
    "collapsed": false,
    "ExecuteTime": {
     "end_time": "2024-04-17T07:20:15.022294Z",
     "start_time": "2024-04-17T07:20:15.007571600Z"
    }
   },
   "id": "be4ded6e4550130b"
  },
  {
   "cell_type": "markdown",
   "source": [
    "# Random Crop"
   ],
   "metadata": {
    "collapsed": false
   },
   "id": "79843d7aeb8fbd65"
  },
  {
   "cell_type": "code",
   "execution_count": 3,
   "outputs": [],
   "source": [
    "for x in range(10):\n",
    "    transform = v2.RandomCrop(size=256)\n",
    "    out = transform(image)\n",
    "    path = './data/augmented/AKU01_cropped%s.jpg' % x\n",
    "    write_jpeg(out, path)"
   ],
   "metadata": {
    "collapsed": false,
    "ExecuteTime": {
     "end_time": "2024-04-17T07:20:15.037624300Z",
     "start_time": "2024-04-17T07:20:15.023609300Z"
    }
   },
   "id": "5808e835a5c38ac5"
  },
  {
   "cell_type": "markdown",
   "source": [
    "# Random Erasing"
   ],
   "metadata": {
    "collapsed": false
   },
   "id": "26805727225b3aab"
  },
  {
   "cell_type": "code",
   "execution_count": 4,
   "outputs": [],
   "source": [
    "for x in range(10):\n",
    "    transform = v2.RandomErasing(p=1)\n",
    "    out = transform(image)\n",
    "    path = './data/augmented/AKU01_erased%s.jpg' % x\n",
    "    write_jpeg(out, path)"
   ],
   "metadata": {
    "collapsed": false,
    "ExecuteTime": {
     "end_time": "2024-04-17T07:20:15.102832900Z",
     "start_time": "2024-04-17T07:20:15.039625300Z"
    }
   },
   "id": "f8e98bb72be05786"
  },
  {
   "cell_type": "markdown",
   "source": [
    "# Random Perspective"
   ],
   "metadata": {
    "collapsed": false
   },
   "id": "5ac6b72daed84d1"
  },
  {
   "cell_type": "code",
   "execution_count": 5,
   "outputs": [],
   "source": [
    "for x in range(10):\n",
    "    transform = v2.RandomPerspective(p=1)\n",
    "    out = transform(image)\n",
    "    path = './data/augmented/AKU01_perspective%s.jpg' % x\n",
    "    write_jpeg(out, path)"
   ],
   "metadata": {
    "collapsed": false,
    "ExecuteTime": {
     "end_time": "2024-04-17T07:20:15.689164200Z",
     "start_time": "2024-04-17T07:20:15.102832900Z"
    }
   },
   "id": "4c869ff400a28df5"
  },
  {
   "cell_type": "markdown",
   "source": [
    "# Random Affine"
   ],
   "metadata": {
    "collapsed": false
   },
   "id": "9879882e3e01022a"
  },
  {
   "cell_type": "code",
   "execution_count": 6,
   "outputs": [],
   "source": [
    "for x in range(10):\n",
    "    transform = v2.RandomAffine(degrees=70, scale=[0.2, 2], translate=[0.2, 0.7], shear=5)\n",
    "    out = transform(image)\n",
    "    path = './data/augmented/AKU01_affine%s.jpg' % x\n",
    "    write_jpeg(out, path)"
   ],
   "metadata": {
    "collapsed": false,
    "ExecuteTime": {
     "end_time": "2024-04-17T07:20:16.595009300Z",
     "start_time": "2024-04-17T07:20:15.691166100Z"
    }
   },
   "id": "b9525b401a9d3098"
  },
  {
   "cell_type": "markdown",
   "source": [
    "# Elastic Transform"
   ],
   "metadata": {
    "collapsed": false
   },
   "id": "749355bae5bd141d"
  },
  {
   "cell_type": "code",
   "execution_count": 7,
   "outputs": [],
   "source": [
    "for x in range(10):\n",
    "    transform = v2.ElasticTransform(alpha=90.0, sigma=9.0)\n",
    "    out = transform(image)\n",
    "    path = './data/augmented/AKU01_elastic%s.jpg' % x\n",
    "    write_jpeg(out, path)"
   ],
   "metadata": {
    "collapsed": false,
    "ExecuteTime": {
     "end_time": "2024-04-17T07:20:22.487421700Z",
     "start_time": "2024-04-17T07:20:16.590500500Z"
    }
   },
   "id": "e0bf06d873e075a1"
  },
  {
   "cell_type": "markdown",
   "source": [
    "# Gaussian Noise"
   ],
   "metadata": {
    "collapsed": false
   },
   "id": "d3e1d51a14d093c3"
  },
  {
   "cell_type": "code",
   "execution_count": 8,
   "outputs": [],
   "source": [
    "def gauss_noise_tensor(img, sig):\n",
    "    assert isinstance(img, torch.Tensor)\n",
    "    dtype = img.dtype\n",
    "    if not img.is_floating_point():\n",
    "        img = img.to(torch.float32)\n",
    "    \n",
    "    sigma = sig\n",
    "    \n",
    "    out = img + sigma * torch.randn_like(img)\n",
    "    \n",
    "    if out.dtype != dtype:\n",
    "        out = out.to(dtype)\n",
    "        \n",
    "    return out\n",
    "\n",
    "for x in range(10):\n",
    "    transform = gauss_noise_tensor\n",
    "    out = transform(image, 10)\n",
    "    path = './data/augmented/AKU01_gaussian%s.jpg' % x\n",
    "    write_jpeg(out, path)"
   ],
   "metadata": {
    "collapsed": false,
    "ExecuteTime": {
     "end_time": "2024-04-17T07:20:23.542822700Z",
     "start_time": "2024-04-17T07:20:22.488421100Z"
    }
   },
   "id": "543627a22b5017fa"
  },
  {
   "cell_type": "markdown",
   "source": [
    "# Compose Transformation"
   ],
   "metadata": {
    "collapsed": false
   },
   "id": "836fe7aeb12b7493"
  },
  {
   "cell_type": "code",
   "execution_count": 9,
   "outputs": [],
   "source": [
    "for x in range(10):\n",
    "    transform = v2.Compose([v2.RandomCrop(size=256),\n",
    "                            v2.RandomErasing(p=1),\n",
    "                            v2.RandomPerspective(p=1),\n",
    "                            v2.RandomAffine(degrees=70, scale=[0.2, 2], translate=[0.2, 0.7], shear=5),\n",
    "                            v2.ElasticTransform(alpha=90.0, sigma=9.0)])                    \n",
    "    out = transform(image)\n",
    "    path = './data/augmented/AKU01_composed%s.jpg' % x\n",
    "    write_jpeg(out, path)"
   ],
   "metadata": {
    "collapsed": false,
    "ExecuteTime": {
     "end_time": "2024-04-17T07:20:24.073692100Z",
     "start_time": "2024-04-17T07:20:23.543823500Z"
    }
   },
   "id": "34d5666cf8b79bfd"
  },
  {
   "cell_type": "markdown",
   "source": [
    "# CutMix & MixUp"
   ],
   "metadata": {
    "collapsed": false
   },
   "id": "edad65c031e485f6"
  },
  {
   "cell_type": "code",
   "execution_count": 10,
   "outputs": [],
   "source": [
    "class CustomImageDataset(Dataset):\n",
    "    def __init__(self, annotations_file, img_dir, transform=None, target_transform=None):\n",
    "        self.img_labels = pd.read_csv(annotations_file)\n",
    "        self.img_dir = img_dir\n",
    "        self.transform = transform\n",
    "        self.target_transform = target_transform\n",
    "\n",
    "    def __len__(self):\n",
    "        return len(self.img_labels)\n",
    "\n",
    "    def __getitem__(self, idx):\n",
    "        img_path = os.path.join(self.img_dir, self.img_labels.iloc[idx, 0])\n",
    "        image = read_image(img_path)\n",
    "        label = self.img_labels.iloc[idx, 1]\n",
    "        if self.transform:\n",
    "            image = self.transform(image)\n",
    "        if self.target_transform:\n",
    "            label = self.target_transform(label)\n",
    "        return image, label\n",
    "    \n",
    "prepoc = v2.Compose([v2.PILToTensor(), v2.RandomCrop(size=400), v2.ToDtype(torch.float32, scale=True)])\n",
    "    \n",
    "aku_dataset = CustomImageDataset('./labels.csv', './data/original/', transform=prepoc)\n",
    "dataloader = DataLoader(aku_dataset, batch_size=4, shuffle=True)"
   ],
   "metadata": {
    "collapsed": false,
    "ExecuteTime": {
     "end_time": "2024-04-17T07:20:24.079543100Z",
     "start_time": "2024-04-17T07:20:24.076202800Z"
    }
   },
   "id": "22a70566e3d7556a"
  },
  {
   "cell_type": "code",
   "execution_count": 13,
   "outputs": [],
   "source": [
    "NUM_CLASSES = 2\n",
    "\n",
    "cutmix = v2.CutMix(num_classes=NUM_CLASSES)\n",
    "mixup = v2.MixUp(num_classes=NUM_CLASSES)\n",
    "#cutmix_or_mixup = v2.RandomChoice([cutmix, mixup])\n",
    "\n",
    "x = 0\n",
    "for images, labels in dataloader:\n",
    "    cutimages, cutlabels = cutmix(images, labels)\n",
    "    for i in range(cutimages.size(0)):\n",
    "        save_image(cutimages[i, :, :, :], './data/augmented/cutmix{}.jpg'.format(x))\n",
    "        x+=1\n",
    "        \n",
    "x = 0\n",
    "for images, labels in dataloader:\n",
    "    miximages, mixlabels = mixup(images, labels)\n",
    "    for i in range(miximages.size(0)):\n",
    "        save_image(miximages[i, :, :, :], './data/augmented/mixup{}.jpg'.format(x))\n",
    "        x+=1"
   ],
   "metadata": {
    "collapsed": false,
    "ExecuteTime": {
     "end_time": "2024-04-17T07:23:25.763314700Z",
     "start_time": "2024-04-17T07:23:24.187465800Z"
    }
   },
   "id": "7924955761ecdae7"
  },
  {
   "cell_type": "code",
   "execution_count": 11,
   "outputs": [],
   "source": [],
   "metadata": {
    "collapsed": false,
    "ExecuteTime": {
     "end_time": "2024-04-17T07:20:25.519279600Z",
     "start_time": "2024-04-17T07:20:25.515398Z"
    }
   },
   "id": "f64c2a1d521aea1f"
  },
  {
   "cell_type": "code",
   "execution_count": 11,
   "outputs": [],
   "source": [],
   "metadata": {
    "collapsed": false,
    "ExecuteTime": {
     "end_time": "2024-04-17T07:20:25.520285400Z",
     "start_time": "2024-04-17T07:20:25.519279600Z"
    }
   },
   "id": "e413c7bd6e33ff89"
  }
 ],
 "metadata": {
  "kernelspec": {
   "display_name": "Python 3",
   "language": "python",
   "name": "python3"
  },
  "language_info": {
   "codemirror_mode": {
    "name": "ipython",
    "version": 2
   },
   "file_extension": ".py",
   "mimetype": "text/x-python",
   "name": "python",
   "nbconvert_exporter": "python",
   "pygments_lexer": "ipython2",
   "version": "2.7.6"
  }
 },
 "nbformat": 4,
 "nbformat_minor": 5
}
